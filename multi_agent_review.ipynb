{
 "cells": [
  {
   "cell_type": "code",
   "execution_count": 3,
   "metadata": {},
   "outputs": [
    {
     "name": "stdout",
     "output_type": "stream",
     "text": [
      "✅ All libraries imported successfully!\n"
     ]
    }
   ],
   "source": [
    "import autogen\n",
    "import langchain\n",
    "import llama_index\n",
    "import openai\n",
    "import requests\n",
    "import xml.etree.ElementTree as ET\n",
    "from scholarly import scholarly\n",
    "\n",
    "print(\"✅ All libraries imported successfully!\")\n",
    "\n"
   ]
  },
  {
   "cell_type": "code",
   "execution_count": 7,
   "metadata": {},
   "outputs": [],
   "source": [
    "def fetch_google_scholar_papers(query):\n",
    "        \"\"\"\n",
    "            Fetches top 6 research papers from Google Scholar.\n",
    "            Returns:\n",
    "                list: A list of dictionaries containing paper details (title, summary, link)\n",
    "        \"\"\"\n",
    "        papers = []\n",
    "        search_results = scholarly.search_pubs(query)\n",
    "\n",
    "        for i, paper in enumerate(search_results):\n",
    "            if i >= 6:\n",
    "                break\n",
    "            papers.append({\n",
    "                \"title\": paper[\"bib\"][\"title\"],\n",
    "                \"summary\": paper[\"bib\"].get(\"abstract\", \"No summary available\"),\n",
    "                \"link\": paper.get(\"pub_url\", \"No link available\")\n",
    "            })\n",
    "        return papers\n",
    "\n"
   ]
  },
  {
   "cell_type": "code",
   "execution_count": 8,
   "metadata": {},
   "outputs": [
    {
     "name": "stdout",
     "output_type": "stream",
     "text": [
      "\n",
      "📄 Paper 1: A survey on LLM-based multi-agent systems: workflow, infrastructure, and challenges\n",
      "📝 Summary: For system  LLM-based multi-agent systems in two main areas: problem-solving and world  simulation. Finally, we address several challenges faced by LLM-based multi-agent systems\n",
      "🔗 Link: https://link.springer.com/article/10.1007/s44336-024-00009-2\n",
      "\n",
      "📄 Paper 2: LLM multi-agent systems: Challenges and open problems\n",
      "📝 Summary: multi-agent systems. We also explore the potential application of multi-agent systems in  blockchain systems to  their future development and application in real-world distributed systems.\n",
      "🔗 Link: https://arxiv.org/abs/2402.03578\n",
      "\n",
      "📄 Paper 3: Multi-agent collaboration: Harnessing the power of intelligent llm agents\n",
      "📝 Summary: In fact, our proposed multi-agent system also aims to make strides toward achieving a higher  level of artificial general intelligence (AGI). The development and deployment of advanced\n",
      "🔗 Link: https://arxiv.org/abs/2306.03314\n",
      "\n",
      "📄 Paper 4: Llm-based multi-agent reinforcement learning: Current and future directions\n",
      "📝 Summary: more intelligent and flexible multi-agent systems capable of operating in unpredictable,  real-world environments. Guo et al. [20] reviewed LLM-based multi-agent frameworks, but the\n",
      "🔗 Link: https://arxiv.org/abs/2405.11106\n",
      "\n",
      "📄 Paper 5: Cut the crap: An economical communication pipeline for llm-based multi-agent systems\n",
      "📝 Summary: 2021) within existing LLM-based multi-agent (LLM- LLM-powered multi-agent systems,  dubbed AgentPrune, which can be smoothly incorporated within various existing LLM-MA systems\n",
      "🔗 Link: https://arxiv.org/abs/2410.02506\n",
      "\n",
      "📄 Paper 6: Transagent: An llm-based multi-agent system for code translation\n",
      "📝 Summary: a novel LLM-based multi-agent system TRANSAGENT, which enhances LLM-based code  translation by fixing the syntax errors and semantic errors with the synergy between four LLM-\n",
      "🔗 Link: https://arxiv.org/abs/2409.19894\n"
     ]
    }
   ],
   "source": [
    "res=fetch_google_scholar_papers(\"Multi-Agent LLM Systems\")\n",
    "for i, paper in enumerate(res):\n",
    "    print(f\"\\n📄 Paper {i+1}: {paper['title']}\")\n",
    "    print(f\"📝 Summary: {paper['summary']}\")\n",
    "    print(f\"🔗 Link: {paper['link']}\")\n"
   ]
  }
 ],
 "metadata": {
  "kernelspec": {
   "display_name": "venv",
   "language": "python",
   "name": "python3"
  },
  "language_info": {
   "codemirror_mode": {
    "name": "ipython",
    "version": 3
   },
   "file_extension": ".py",
   "mimetype": "text/x-python",
   "name": "python",
   "nbconvert_exporter": "python",
   "pygments_lexer": "ipython3",
   "version": "3.12.8"
  }
 },
 "nbformat": 4,
 "nbformat_minor": 2
}
